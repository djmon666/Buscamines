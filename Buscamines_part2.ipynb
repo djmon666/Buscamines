{
 "cells": [
  {
   "cell_type": "markdown",
   "metadata": {},
   "source": [
    "<h1>EL BUSCAMINES</h1>\n",
    "<h3> Segona part</h3>\n",
    "<p>Després de crear el taulell, anem a continuar posant les mines al taulell.</p>\n",
    "<h3>Objectiu</h3>\n",
    "<p>El programa ens preguntarà la dificultat, que serà el nombre de mines que posarem dins el taulell. Per tant farem una funció de nom <b>posar_mines()</b>, que rebrà com a paràmetres un taulell, i el nombre de mines a posar. Les mines rebran el caràcter \"+\".\n",
    "Les posicions de les mines han de ser aleatòries. Per fer això Python disposa del mòdul random, que el podem importar al nostre projecte posant al principi del codi <codi><b>import random</b></codi><br>\n",
    "Per generar un nombre aleatori en Python utilitzant el mòdul random seria:<br>\n",
    "nombre_aleatori= random.randint(0,10) //Això faria un nombre aleatori entre 0 i 10.<br>\n",
    "Aquesta funció haura de retornar el taulell amb les mines posades en caselles aleatòries.\n",
    "</p>\n",
    "<p>Per exemple : posar_mines(taulell,mines) retornarà on taulell=taulell(5) i mines=3 :\n",
    "<table>\n",
    "<tr><td></td><td>A</td><td>B</td><td>C</td><td>D</td><td>E</td></tr>\n",
    "<tr><td>1</td><td>-</td><td>-</td><td>-</td><td>-</td><td>-</td></tr>\n",
    "<tr><td>2</td><td>-</td><td>+</td><td>-</td><td>-</td><td>-</td></tr>\n",
    "<tr><td>3</td><td>-</td><td>-</td><td>-</td><td>-</td><td>-</td></tr>\n",
    "<tr><td>4</td><td>-</td><td>-</td><td>-</td><td>+</td><td>-</td></tr>\n",
    "<tr><td>5</td><td>-</td><td>+</td><td>-</td><td>-</td><td>-</td></tr>\n",
    "</table>\n",
    "\n",
    "<h3>Premi</h3>\n",
    "<p>Objectiu 400 punts</p>"
   ]
  },
  {
   "cell_type": "code",
   "execution_count": 5,
   "metadata": {},
   "outputs": [],
   "source": [
    "def taulell(caselles):\n",
    "    llista = []\n",
    "    for i in range(caselles):\n",
    "        llista2 =[]\n",
    "        for s in range(caselles):\n",
    "            llista2.append(\"-\")\n",
    "        llista.append(llista2)  \n",
    "    return llista\n",
    "def mostrar_taulell(taulells):\n",
    "    print (\"    \",end=\"\")\n",
    "    caselles= len(taulells)\n",
    "    for x in range(caselles):\n",
    "        print(chr(ord(\"A\")+x)+\"  \",end=\"\")\n",
    "    print(\"\")\n",
    "    for x in range(caselles):\n",
    "        print(str(x+1)+\" \",end=\"\")\n",
    "        for y in range(caselles):\n",
    "            print(\"  \"+taulells[x][y],end=\"\")\n",
    "        print(\"\")\n"
   ]
  }
 ],
 "metadata": {
  "interpreter": {
   "hash": "c78e38af339321816c64228536166c44d8b7d5c589be0b944a57d14558d265d3"
  },
  "kernelspec": {
   "display_name": "Python 3.9.2 64-bit",
   "language": "python",
   "name": "python3"
  },
  "language_info": {
   "codemirror_mode": {
    "name": "ipython",
    "version": 3
   },
   "file_extension": ".py",
   "mimetype": "text/x-python",
   "name": "python",
   "nbconvert_exporter": "python",
   "pygments_lexer": "ipython3",
   "version": "3.9.2"
  },
  "orig_nbformat": 4
 },
 "nbformat": 4,
 "nbformat_minor": 2
}
