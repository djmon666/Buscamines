{
 "cells": [
  {
   "cell_type": "code",
   "execution_count": null,
   "id": "6d364827",
   "metadata": {},
   "outputs": [],
   "source": [
    "# EL BUSCAMINES "
   ]
  },
  {
   "cell_type": "markdown",
   "id": "7d2d78c5",
   "metadata": {},
   "source": [
    "<h3> Primera part</h3>\n",
    "<p>L'objectiu d'aquest exercici és crear un joc del buscamines, una mica diferent, per practicar els coneixements en programació</p>\n",
    "<h3>Objectiu</h3>\n",
    "<p>Crear una funció de nom taulell, que rebi de paràmatre el número de cel·les que trindrà.Aquesta funció ens haurà de retornar el taulell i mostrar-lo per pantalla de manera que les columnes i files estiguin numerades. A cada posició hi posarem el signe \"-\".\n",
    "Les columnes seràn lletres de la \"A\" fins màxim el número de caselles que té el taulell.<br>\n",
    "Les files es numeraràn le l'1 al número de caselles que té el taulell.<br>\n",
    "Haura de quedar una cosa així:</p>\n",
    "<table>\n",
    "<tr><td></td><td>A</td><td>B</td><td>C</td><td>D</td><td>E</td><td>F</td></tr>\n",
    "<tr><td>1</td><td>-</td><td>-</td><td>-</td><td>-</td><td>-</td><td>-</td></tr>\n",
    "<tr><td>2</td><td>-</td><td>-</td><td>-</td><td>-</td><td>-</td><td>-</td></tr>\n",
    "<tr><td>3</td><td>-</td><td>-</td><td>-</td><td>-</td><td>-</td><td>-</td></tr>\n",
    "<tr><td>4</td><td>-</td><td>-</td><td>-</td><td>-</td><td>-</td><td>-</td></tr>\n",
    "<tr><td>5</td><td>-</td><td>-</td><td>-</td><td>-</td><td>-</td><td>-</td></tr>\n",
    "</table>\n",
    "\n",
    "\n",
    "<h3>Normes</h3>\n",
    "<p>El taulell no contindrà les coordenades. Les coordenades només s'han d'imprimir per pantalla.\n",
    "\n",
    "</p>\n",
    "<h3>Premi</h3>\n",
    "<p>Si supereu el test rebreu 200 punts a la plataforma</p>"
   ]
  },
  {
   "cell_type": "code",
   "execution_count": null,
   "id": "0fa5ae10",
   "metadata": {},
   "outputs": [],
   "source": [
    "#El teu codi aqui\n",
    "\n",
    "                                                           \n",
    "                                                          \n",
    "                                                       \n",
    "                                                        "
   ]
  }
 ],
 "metadata": {
  "interpreter": {
   "hash": "c78e38af339321816c64228536166c44d8b7d5c589be0b944a57d14558d265d3"
  },
  "kernelspec": {
   "display_name": "Python 3.9.2 64-bit",
   "language": "python",
   "name": "python3"
  },
  "language_info": {
   "codemirror_mode": {
    "name": "ipython",
    "version": 3
   },
   "file_extension": ".py",
   "mimetype": "text/x-python",
   "name": "python",
   "nbconvert_exporter": "python",
   "pygments_lexer": "ipython3",
   "version": "3.9.2"
  },
  "orig_nbformat": 4
 },
 "nbformat": 4,
 "nbformat_minor": 2
}
