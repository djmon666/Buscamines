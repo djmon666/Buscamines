{
 "cells": [
  {
   "cell_type": "markdown",
   "id": "7d2d78c5",
   "metadata": {},
   "source": [
    "<h1>EL BUSCAMINES</h1>\n",
    "<h3> Primera part</h3>\n",
    "<p>L'objectiu d'aquest exercici és crear un joc del buscamines, una mica diferent, per practicar els coneixements en programació</p>\n",
    "<h3>Objectiu 1</h3>\n",
    "<p>Crear una funció de nom taulell(), que rebi de paràmatre el número de cel·les que trindrà, entre 5 i 9.Aquesta funció ens haurà de retornar una llista de llistes, on cada subllista contingui el numero de columnes i hi hagi el número de files que hem posat al paràmetre. Tot seguit emplenarem la llista amb signes \"-\" a cada posició. <br>\n",
    "La llista haurà de ser com aquesta, en el cas de donar 5:<br>\n",
    "<b>[[\"-\",\"-\",\"-\",\"-\",\"-\"],[\"-\",\"-\",\"-\",\"-\",\"-\"],[\"-\",\"-\",\"-\",\"-\",\"-\"],[\"-\",\"-\",\"-\",\"-\",\"-\"],[\"-\",\"-\",\"-\",\"-\",\"-\"]]\n",
    "</p>\n",
    "<h3>Objectiu 2</h3>\n",
    "<p>Crear una funció emplena_taulell(), que empleni una llista que servirà per posar les lletres que seràn les capçaleres del taulell. De manera que comenci per la lletra \"A\", i tingui tantes lletres com columnes té el taulell.\n",
    "Les files es numeraràn le l'1 al número de files que té el taulell.<br>\n",
    "Després haurem de combinar aquesta llista amb l'anterior per crear un taulell de joc complert.\n",
    "Haura de quedar una cosa així en el cas de fer un taulell de 5 x 5:</p>\n",
    "<table>\n",
    "<tr><td></td><td>A</td><td>B</td><td>C</td><td>D</td><td>E</td></tr>\n",
    "<tr><td>1</td><td>-</td><td>-</td><td>-</td><td>-</td><td>-</td></tr>\n",
    "<tr><td>2</td><td>-</td><td>-</td><td>-</td><td>-</td><td>-</td></tr>\n",
    "<tr><td>3</td><td>-</td><td>-</td><td>-</td><td>-</td><td>-</td></tr>\n",
    "<tr><td>4</td><td>-</td><td>-</td><td>-</td><td>-</td><td>-</td></tr>\n",
    "<tr><td>5</td><td>-</td><td>-</td><td>-</td><td>-</td><td>-</td></tr>\n",
    "</table>\n",
    "\n",
    "<h3>Premi</h3>\n",
    "<p>Objectiu 1 = 200 punts Objectiu 2 = 200 punts</p>"
   ]
  },
  {
   "cell_type": "code",
   "execution_count": null,
   "id": "0fa5ae10",
   "metadata": {},
   "outputs": [],
   "source": [
    "#El teu codi aqui\n",
    "\n",
    "                                                           \n",
    "                                                          \n",
    "                                                       \n",
    "                                                        "
   ]
  }
 ],
 "metadata": {
  "interpreter": {
   "hash": "c78e38af339321816c64228536166c44d8b7d5c589be0b944a57d14558d265d3"
  },
  "kernelspec": {
   "display_name": "Python 3.9.2 64-bit",
   "language": "python",
   "name": "python3"
  },
  "language_info": {
   "codemirror_mode": {
    "name": "ipython",
    "version": 3
   },
   "file_extension": ".py",
   "mimetype": "text/x-python",
   "name": "python",
   "nbconvert_exporter": "python",
   "pygments_lexer": "ipython3",
   "version": "3.9.2"
  },
  "orig_nbformat": 4
 },
 "nbformat": 4,
 "nbformat_minor": 2
}
