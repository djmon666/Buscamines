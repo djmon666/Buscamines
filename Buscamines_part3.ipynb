{
 "cells": [
  {
   "cell_type": "markdown",
   "metadata": {},
   "source": [
    "<h1>EL BUSCAMINES</h1>\n",
    "<h3> Tercera part</h3>\n",
    "<p>Anem a comprovar que les dades són correctes</p>\n",
    "<h3>Objectiu</h3>\n",
    "<p>Quan el joc pregunti al jugador quina casella vol destapar, aquest ho ha de fer en format \n",
    "</p>\n",
    "<p>Per exemple : posar_mines(taulell,mines) retornarà on taulell=taulell(5) i mines=3 :\n",
    "<table>\n",
    "<tr><td></td><td>A</td><td>B</td><td>C</td><td>D</td><td>E</td></tr>\n",
    "<tr><td>1</td><td>-</td><td>-</td><td>-</td><td>-</td><td>-</td></tr>\n",
    "<tr><td>2</td><td>-</td><td>+</td><td>-</td><td>-</td><td>-</td></tr>\n",
    "<tr><td>3</td><td>-</td><td>-</td><td>-</td><td>-</td><td>-</td></tr>\n",
    "<tr><td>4</td><td>-</td><td>-</td><td>-</td><td>+</td><td>-</td></tr>\n",
    "<tr><td>5</td><td>-</td><td>+</td><td>-</td><td>-</td><td>-</td></tr>\n",
    "</table>\n",
    "\n",
    "<h3>Premi</h3>\n",
    "<p>Objectiu 400 punts</p>"
   ]
  },
  {
   "cell_type": "code",
   "execution_count": null,
   "metadata": {},
   "outputs": [],
   "source": [
    "def taulell(caselles):\n",
    "    llista = []\n",
    "    for i in range(caselles):\n",
    "        llista2 =[]\n",
    "        for s in range(caselles):\n",
    "            llista2.append(\"-\")\n",
    "        llista.append(llista2)  \n",
    "    return llista\n",
    "def mostrar_taulell(taulells):\n",
    "    print (\"    \",end=\"\")\n",
    "    caselles= len(taulells)\n",
    "    for x in range(caselles):\n",
    "        print(chr(ord(\"A\")+x)+\"  \",end=\"\")\n",
    "    print(\"\")\n",
    "    for x in range(caselles):\n",
    "        print(str(x+1)+\" \",end=\"\")\n",
    "        for y in range(caselles):\n",
    "            print(\"  \"+taulells[x][y],end=\"\")\n",
    "        print(\"\")\n"
   ]
  }
 ],
 "metadata": {
  "language_info": {
   "name": "python"
  },
  "orig_nbformat": 4
 },
 "nbformat": 4,
 "nbformat_minor": 2
}
