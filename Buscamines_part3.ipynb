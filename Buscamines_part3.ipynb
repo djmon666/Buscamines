{
 "cells": [
  {
   "cell_type": "markdown",
   "metadata": {},
   "source": [
    "<h1>EL BUSCAMINES</h1>\n",
    "<h3> Tercera part</h3>\n",
    "<p>Anem a comprovar que les dades són correctes</p>\n",
    "<h3>Objectiu</h3>\n",
    "<p>Quan el joc pregunti al jugador quina casella vol destapar, aquest ho ha de fer en format de NúmeroLletra, ( per exemple 2A ), on el número serà una de les files, i la lletra haurà de ser una de les columnes del taulell.\n",
    "</p>\n",
    "<p>Haurem de fer una funció anomenada <b>coordenades()<b> amb dos paràmetres, un que serà una cadena que contindrà aquestes dues coordenades del taulell, i l'altre el taulell. La funció retornarà la posició si existeix o False si no existeix. Recordeu que les coordenades són en realitat posicions del taulell, per tant, per exemple la coordenada 1, és la posició 0...</p>\n",
    "<p>Per exemple : coordenades(\"2A\",taulell) retornarà on taulell=taulell(5) i coordenada 2A :<br>\n",
    "\"[1,0]\"<br>\n",
    "o en aquest cas : coordenades(\"4K\",taulell)retornarà on taulell=taulell(5) i coordenada 4K :<br>\n",
    "False ( Ja que la K no existeix al taulell)<br>\n",
    "\n",
    "\n",
    "<h3>Premi</h3>\n",
    "<p>Objectiu 400 punts</p>"
   ]
  },
  {
   "cell_type": "code",
   "execution_count": null,
   "metadata": {},
   "outputs": [],
   "source": [
    "def taulell(caselles):\n",
    "    llista = []\n",
    "    for i in range(caselles):\n",
    "        llista2 =[]\n",
    "        for s in range(caselles):\n",
    "            llista2.append(\"-\")\n",
    "        llista.append(llista2)  \n",
    "    return llista\n",
    "def mostrar_taulell(taulells):\n",
    "    print (\"    \",end=\"\")\n",
    "    caselles= len(taulells)\n",
    "    for x in range(caselles):\n",
    "        print(chr(ord(\"A\")+x)+\"  \",end=\"\")\n",
    "    print(\"\")\n",
    "    for x in range(caselles):\n",
    "        print(str(x+1)+\" \",end=\"\")\n",
    "        for y in range(caselles):\n",
    "            print(\"  \"+taulells[x][y],end=\"\")\n",
    "        print(\"\")\n"
   ]
  }
 ],
 "metadata": {
  "language_info": {
   "name": "python"
  },
  "orig_nbformat": 4
 },
 "nbformat": 4,
 "nbformat_minor": 2
}
