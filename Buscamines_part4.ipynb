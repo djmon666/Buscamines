{
 "cells": [
  {
   "cell_type": "markdown",
   "metadata": {},
   "source": [
    "<h1>EL BUSCAMINES</h1>\n",
    "<h3> Quarta part</h3>\n",
    "<p>Un cop posades les mines, haurem de controlar la tirada de l'usuari ( quina casella destapa) i que ens modifiqui el taulell amb la posició triada amb un número que representa el nombre total de mines que estan tocant la casella( també en diagonal )</p>\n",
    "<table border=1>\n",
    "<tr><td>+</td><td>+</td><td>+</td><tr>\n",
    "<tr><td>+</td><td>8</td><td>+</td><tr>\n",
    "<tr><td>+</td><td>+</td><td>+</td><tr>\n",
    "</table>\n",
    "\n",
    "<h3>Objectiu</h3>\n",
    "<p>Farem una funció que es dirà <b>tria_casella()</b>, que trindrà 3 paràmetres:<br><ul>\n",
    "<li>Taulell de joc : llista que representa el taulell que es mostra per pantalla</li>\n",
    "<li>Taulell amb les mines posades : llista que conté el taulell amb les posicions de les mines ( per tant la solució que mai ha de veure l'usuari )</li>\n",
    "<li>Posició on el jugador tira: Que serà el resultat de la darrera funció que vam fer, que ja controla que les coordenades siguin correctes. </li>\n",
    "</ul>\n",
    "<p>Aquest funció només modificarà el taulell en qüestió, en el cas que la posició no estigui ocupada per una tirada anterior o per una bomba ( haurem de separar els dos casos).</p>\n",
    "<p>Necessitarem també una altra funció (<b>num_mines(taulell,secret,coordenades)</b> ) que calculi quantes bombes hi ha al voltant de la coordenada proporcionada. Aquesta funció es cridarà dins l'anterior i ha de tenir els mateixos 3 paràmetres.</p>\n",
    "\n",
    "\n",
    "</p>\n",
    "<p>Per exemple : Amb un taulell amb aquestes mines, el resultat hauria de ser algo així :\n",
    "<table>\n",
    "<tr><td></td><td>A</td><td>B</td><td>C</td><td>D</td><td>E</td></tr>\n",
    "<tr><td>1</td><td>-</td><td>1</td><td>-</td><td>-</td><td>-</td></tr>\n",
    "<tr><td>2</td><td>-</td><td>+</td><td>-</td><td>-</td><td>0</td></tr>\n",
    "<tr><td>3</td><td>-</td><td>-</td><td>-</td><td>-</td><td>-</td></tr>\n",
    "<tr><td>4</td><td>-</td><td>1</td><td>-</td><td>+</td><td>-</td></tr>\n",
    "<tr><td>5</td><td>-</td><td>+</td><td>2</td><td>-</td><td>-</td></tr>\n",
    "</table>\n",
    "\n",
    "<h3>Premi</h3>\n",
    "<p>Objectiu 600 punts</p>"
   ]
  },
  {
   "cell_type": "code",
   "execution_count": null,
   "metadata": {},
   "outputs": [],
   "source": [
    "import random\n",
    "def taulell(caselles):\n",
    "    llista = []\n",
    "    for i in range(caselles):\n",
    "        llista2 =[]\n",
    "        for s in range(caselles):\n",
    "            llista2.append(\"-\")\n",
    "        llista.append(llista2)  \n",
    "    return llista\n",
    "def mostrar_taulell(taulells):\n",
    "    print (\"    \",end=\"\")\n",
    "    caselles= len(taulells)\n",
    "    for x in range(caselles):\n",
    "        print(chr(ord(\"A\")+x)+\"  \",end=\"\")\n",
    "    print(\"\")\n",
    "    for x in range(caselles):\n",
    "        print(str(x+1)+\" \",end=\"\")\n",
    "        for y in range(caselles):\n",
    "            print(\"  \"+taulells[x][y],end=\"\")\n",
    "        print(\"\")\n",
    "def posar_mines(taulell,mines):\n",
    "  num=len(taulell)\n",
    "  for x in range(mines):\n",
    "    rand = random.randint(0,(num*num)-1)\n",
    "    while taulell[int(rand/num)][rand%num] == '+':\n",
    "      rand = random.randint(0,(num*num)-1)\n",
    "    taulell[int(rand/num)][rand%num] = '+' \n",
    "  return taulell\n",
    "def coordenades(coord,taulell):\n",
    "  num=coord[0]\n",
    "  lletra=coord[1]\n",
    "  if lletra < \"A\" or lletra > chr(ord(\"A\")+len(taulell)-1) or int(num)<1 or int(num)>len(taulell):\n",
    "    print(\"Posició Incorrecte\")\n",
    "    return False\n",
    "  else:\n",
    "    return [int(num)-1,ord(lletra)-ord(\"A\")]\n",
    "joc=taulell(5)\n",
    "secret=taulell(5)\n",
    "posar_mines(secret,3)\n",
    "mostrar_taulell(joc)\n",
    "mostrar_taulell(secret)\n"
   ]
  }
 ],
 "metadata": {
  "interpreter": {
   "hash": "aee8b7b246df8f9039afb4144a1f6fd8d2ca17a180786b69acc140d282b71a49"
  },
  "kernelspec": {
   "display_name": "Python 3.9.2 64-bit",
   "language": "python",
   "name": "python3"
  },
  "language_info": {
   "codemirror_mode": {
    "name": "ipython",
    "version": 3
   },
   "file_extension": ".py",
   "mimetype": "text/x-python",
   "name": "python",
   "nbconvert_exporter": "python",
   "pygments_lexer": "ipython3",
   "version": "3.9.2"
  },
  "orig_nbformat": 4
 },
 "nbformat": 4,
 "nbformat_minor": 2
}
