{
 "cells": [
  {
   "cell_type": "markdown",
   "metadata": {},
   "source": [
    "<h1>EL BUSCAMINES</h1>\n",
    "<h3> Tercera part</h3>\n",
    "<p>Un cop posades les mines, haurem de controlar la tirada de l'usuari ( quina casella destapa) i que ens retorni el taulell amb la posició triada amb un número que representa el nombre total de mines que estan tocant la casella( també en diagonal )</p>\n",
    "<table border=1>\n",
    "<tr><td>+</td><td>+</td><td>+</td><tr>\n",
    "<tr><td>+</td><td>8</td><td>+</td><tr>\n",
    "<tr><td>+</td><td>+</td><td>+</td><tr>\n",
    "</table>\n",
    "\n",
    "<h3>Objectiu</h3>\n",
    "<p>Farem una funció que es dirà tria_casella, que trindrà 3 paràmetres:<br><ul>\n",
    "<li>Taulell de joc : llista que representa el taulell que es mostra per pantalla</li>\n",
    "<li>Taulell amb les mines posades : llista que conté el taulell amb les posicions de les mines ( per tant la solució que mai ha de veure l'usuari )</li>\n",
    "<li>Posició on el jugador tira: Tingueu en compte que la posició ve donada per les ccordenades del taulell, i seràn del format: LLetraNúmero, on la lletra pot ser de la \"A\" fins la darrera lletra del taulell, i el número que pot ser del 1 fins al darrer de les files del taulell. </li>\n",
    "</ul>\n",
    "Podeu fer servir totes les funcions auxiliars que necessiteu, per tal de que aquesta funció retorni el taulell que veurà el jugador un cop hi posem la posició\n",
    "\n",
    "\n",
    "</p>\n",
    "<p>Per exemple : Amb un taulell amb aquestes mines, el resultat hauria de ser algo així :\n",
    "<table>\n",
    "<tr><td></td><td>A</td><td>B</td><td>C</td><td>D</td><td>E</td></tr>\n",
    "<tr><td>1</td><td>-</td><td>1</td><td>-</td><td>-</td><td>-</td></tr>\n",
    "<tr><td>2</td><td>-</td><td>+</td><td>-</td><td>-</td><td>0</td></tr>\n",
    "<tr><td>3</td><td>-</td><td>-</td><td>-</td><td>-</td><td>-</td></tr>\n",
    "<tr><td>4</td><td>-</td><td>1</td><td>-</td><td>+</td><td>-</td></tr>\n",
    "<tr><td>5</td><td>-</td><td>+</td><td>-</td><td>-</td><td>-</td></tr>\n",
    "</table>\n",
    "\n",
    "<h3>Premi</h3>\n",
    "<p>Objectiu 500 punts</p>"
   ]
  },
  {
   "cell_type": "code",
   "execution_count": null,
   "metadata": {},
   "outputs": [],
   "source": [
    "def taulell(caselles):\n",
    "    llista = []\n",
    "    for i in range(caselles):\n",
    "        llista2 =[]\n",
    "        for s in range(caselles):\n",
    "            llista2.append(\"-\")\n",
    "        llista.append(llista2)  \n",
    "    return llista\n",
    "def mostrar_taulell(taulells):\n",
    "    print (\"    \",end=\"\")\n",
    "    caselles= len(taulells)\n",
    "    for x in range(caselles):\n",
    "        print(chr(ord(\"A\")+x)+\"  \",end=\"\")\n",
    "    print(\"\")\n",
    "    for x in range(caselles):\n",
    "        print(str(x+1)+\" \",end=\"\")\n",
    "        for y in range(caselles):\n",
    "            print(\"  \"+taulells[x][y],end=\"\")\n",
    "        print(\"\")\n"
   ]
  }
 ],
 "metadata": {
  "language_info": {
   "name": "python"
  },
  "orig_nbformat": 4
 },
 "nbformat": 4,
 "nbformat_minor": 2
}
